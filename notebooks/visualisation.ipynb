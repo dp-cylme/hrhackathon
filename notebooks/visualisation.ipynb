{
 "cells": [
  {
   "cell_type": "code",
   "execution_count": 2,
   "metadata": {
    "collapsed": true
   },
   "outputs": [],
   "source": [
    "%matplotlib inline\n",
    "\n",
    "# First, import pandas\n",
    "import pandas as pd\n",
    "import numpy as np\n",
    "\n",
    "# We'll also import seaborn, a Python graphing library\n",
    "import warnings # current version of seaborn generates a bunch of warnings that we'll ignore\n",
    "warnings.filterwarnings(\"ignore\")\n",
    "import seaborn as sns\n",
    "import matplotlib.pyplot as plt\n",
    "\n",
    "# We'll also import altair \n",
    "from altair import Chart, Row, Column, Text, X, Y, Axis, Color, Scale, Legend"
   ]
  },
  {
   "cell_type": "markdown",
   "metadata": {},
   "source": [
    "### Download Employee data  (anketa)"
   ]
  },
  {
   "cell_type": "code",
   "execution_count": 9,
   "metadata": {
    "collapsed": true
   },
   "outputs": [],
   "source": [
    "df_anketa = (pd.read_csv(\"../input/h_1_anketa.csv\")\n",
    "        .rename(columns={\"Пол\": \"sex\", \"ДатаРождения\": \"date_of_birth\", \n",
    "                         \"ДатаПриема\": \"date_hired\", \"УИН Подразделения\": \"did\",\n",
    "                         \"ЭтоРуководитель\": \"is_manager\", \"Место рождения\": \"city_of_birth\",\n",
    "                         \"Должность\": \"position\"\n",
    "                        })\n",
    "#         .drop(['Unnamed: 10', 'Unnamed: 11', 'Unnamed: 12', 'Unnamed: 13', 'Unnamed: 14', \n",
    "#                'Unnamed: 15', 'Unnamed: 16', 'Unnamed: 17', 'Unnamed: 18', 'Unnamed: 19', 'Unnamed: 20'], 1)\n",
    "     )"
   ]
  },
  {
   "cell_type": "code",
   "execution_count": 12,
   "metadata": {
    "collapsed": false
   },
   "outputs": [
    {
     "data": {
      "text/plain": [
       "Index(['uid', 'sex', 'date_of_birth', 'date_hired', 'did', 'is_manager',\n",
       "       'city_of_birth', 'position'],\n",
       "      dtype='object')"
      ]
     },
     "execution_count": 12,
     "metadata": {},
     "output_type": "execute_result"
    }
   ],
   "source": [
    "df.columns"
   ]
  },
  {
   "cell_type": "code",
   "execution_count": null,
   "metadata": {
    "collapsed": true
   },
   "outputs": [],
   "source": [
    "### Download Employee data  (anketa)"
   ]
  },
  {
   "cell_type": "code",
   "execution_count": 16,
   "metadata": {
    "collapsed": false
   },
   "outputs": [],
   "source": [
    "#Daparments \n",
    "df_departments = (pd.read_csv(\"../input/h_1_departments.csv\")\n",
    "        .rename(columns={\" \": \"department_name\", \"УИН Подразделения\": \"did\", \n",
    "                         \"УИН Родителя\": \"did_parent\"\n",
    "                        })\n",
    "     )\n",
    "\n",
    "#h_1_learning_offline\n",
    "df_offline = (pd.read_csv(\"../input/h_1_learning_offline.csv\")\n",
    "        .rename(columns={\"наименование программы\": \"program_name\",\n",
    "                         \"Дата\": \"date\", \n",
    "                         \"фактическое количество часов\": \"time_spent\",\n",
    "                         \"Оцека (если предусмотрена курсом)\": \"time_plan\",\n",
    "                        })\n",
    "     )\n",
    "df_loyalty15 = (pd.read_csv(\"../input/h_1_departments.csv\")\n",
    "        .rename(columns={\" \": \"department_name\", \"УИН Подразделения\": \"did\", \n",
    "                         \"УИН Родителя\": \"did_parent\"\n",
    "                        })\n",
    "     )"
   ]
  },
  {
   "cell_type": "code",
   "execution_count": 17,
   "metadata": {
    "collapsed": false
   },
   "outputs": [
    {
     "data": {
      "text/html": [
       "<div>\n",
       "<table border=\"1\" class=\"dataframe\">\n",
       "  <thead>\n",
       "    <tr style=\"text-align: right;\">\n",
       "      <th></th>\n",
       "      <th>department_name</th>\n",
       "      <th>did</th>\n",
       "      <th>did_parent</th>\n",
       "    </tr>\n",
       "  </thead>\n",
       "  <tbody>\n",
       "    <tr>\n",
       "      <th>0</th>\n",
       "      <td>Администрация</td>\n",
       "      <td>3249ca87-fca4-11e1-be8a-001b789beaf2</td>\n",
       "      <td>c3718725-3053-11e1-80c3-001b789beaf2</td>\n",
       "    </tr>\n",
       "    <tr>\n",
       "      <th>1</th>\n",
       "      <td>Аналитическая служба</td>\n",
       "      <td>129b8a1d-9db9-11e2-9998-001b789beaf2</td>\n",
       "      <td>2872f08a-722e-11e0-a872-001b789beaf2</td>\n",
       "    </tr>\n",
       "    <tr>\n",
       "      <th>2</th>\n",
       "      <td>Бренд дирекция</td>\n",
       "      <td>54fd231a-0fb5-11e3-b1ba-ac162d794eee</td>\n",
       "      <td>c3718725-3053-11e1-80c3-001b789beaf2</td>\n",
       "    </tr>\n",
       "    <tr>\n",
       "      <th>3</th>\n",
       "      <td>Бухгалтерская служба</td>\n",
       "      <td>dd63a718-6cfc-11e0-a872-001b789beaf2</td>\n",
       "      <td>dd63a708-6cfc-11e0-a872-001b789beaf2</td>\n",
       "    </tr>\n",
       "    <tr>\n",
       "      <th>4</th>\n",
       "      <td>Группа арендных отношений</td>\n",
       "      <td>a6470039-ef6b-11e2-8bd0-ac162d794eee</td>\n",
       "      <td>b9d2f342-c753-11e2-abbd-ac162d794eee</td>\n",
       "    </tr>\n",
       "  </tbody>\n",
       "</table>\n",
       "</div>"
      ],
      "text/plain": [
       "             department_name                                   did  \\\n",
       "0              Администрация  3249ca87-fca4-11e1-be8a-001b789beaf2   \n",
       "1       Аналитическая служба  129b8a1d-9db9-11e2-9998-001b789beaf2   \n",
       "2             Бренд дирекция  54fd231a-0fb5-11e3-b1ba-ac162d794eee   \n",
       "3       Бухгалтерская служба  dd63a718-6cfc-11e0-a872-001b789beaf2   \n",
       "4  Группа арендных отношений  a6470039-ef6b-11e2-8bd0-ac162d794eee   \n",
       "\n",
       "                             did_parent  \n",
       "0  c3718725-3053-11e1-80c3-001b789beaf2  \n",
       "1  2872f08a-722e-11e0-a872-001b789beaf2  \n",
       "2  c3718725-3053-11e1-80c3-001b789beaf2  \n",
       "3  dd63a708-6cfc-11e0-a872-001b789beaf2  \n",
       "4  b9d2f342-c753-11e2-abbd-ac162d794eee  "
      ]
     },
     "execution_count": 17,
     "metadata": {},
     "output_type": "execute_result"
    }
   ],
   "source": [
    "\n",
    "df_departments.head()"
   ]
  },
  {
   "cell_type": "code",
   "execution_count": null,
   "metadata": {
    "collapsed": true
   },
   "outputs": [],
   "source": []
  },
  {
   "cell_type": "code",
   "execution_count": null,
   "metadata": {
    "collapsed": true
   },
   "outputs": [],
   "source": []
  }
 ],
 "metadata": {
  "kernelspec": {
   "display_name": "Python 3",
   "language": "python",
   "name": "python3"
  },
  "language_info": {
   "codemirror_mode": {
    "name": "ipython",
    "version": 3
   },
   "file_extension": ".py",
   "mimetype": "text/x-python",
   "name": "python",
   "nbconvert_exporter": "python",
   "pygments_lexer": "ipython3",
   "version": "3.5.2"
  }
 },
 "nbformat": 4,
 "nbformat_minor": 1
}
