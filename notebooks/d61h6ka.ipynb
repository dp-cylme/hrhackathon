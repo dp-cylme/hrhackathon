{
 "cells": [
  {
   "cell_type": "code",
   "execution_count": 1,
   "metadata": {
    "collapsed": true
   },
   "outputs": [],
   "source": [
    "%matplotlib inline"
   ]
  },
  {
   "cell_type": "code",
   "execution_count": 2,
   "metadata": {
    "collapsed": true
   },
   "outputs": [],
   "source": [
    "import pandas as pd"
   ]
  },
  {
   "cell_type": "code",
   "execution_count": 18,
   "metadata": {
    "collapsed": true
   },
   "outputs": [],
   "source": [
    "df = (pd.read_csv(\"../input/h_2_courses.csv\")\n",
    "        .rename(columns={\"наименование\": \"name\", \"max-score, максим который набрать\": \"max_possible_score\", \n",
    "                         \"проходной ли балл?\": \"is_passed\", \"сам ли назначил?\": \"does_he_appointed\",\n",
    "                         \"когда активирован курс\": \"course_activated_at\", \"когда завершен\": \"course_finished_at\",\n",
    "                         \"в срок ли завершен\": \"completed_in_period\"\n",
    "                        })\n",
    "        .drop(['Unnamed: 10', 'Unnamed: 11', 'Unnamed: 12', 'Unnamed: 13', 'Unnamed: 14', \n",
    "               'Unnamed: 15', 'Unnamed: 16', 'Unnamed: 17', 'Unnamed: 18', 'Unnamed: 19', 'Unnamed: 20'], 1)\n",
    "     )"
   ]
  },
  {
   "cell_type": "code",
   "execution_count": 15,
   "metadata": {
    "collapsed": false
   },
   "outputs": [
    {
     "name": "stdout",
     "output_type": "stream",
     "text": [
      "['uid', 'name', 'max_possible_score', 'score', '%', 'is_passed', 'does_he_appointed', 'course_activated_at', 'course_finished_at', 'completed_in_period', 'Unnamed: 10', 'Unnamed: 11', 'Unnamed: 12', 'Unnamed: 13', 'Unnamed: 14', 'Unnamed: 15', 'Unnamed: 16', 'Unnamed: 17', 'Unnamed: 18', 'Unnamed: 19', 'Unnamed: 20']\n"
     ]
    }
   ],
   "source": [
    "print([x for x in df.columns])"
   ]
  },
  {
   "cell_type": "code",
   "execution_count": 19,
   "metadata": {
    "collapsed": false
   },
   "outputs": [
    {
     "data": {
      "text/html": [
       "<div>\n",
       "<table border=\"1\" class=\"dataframe\">\n",
       "  <thead>\n",
       "    <tr style=\"text-align: right;\">\n",
       "      <th></th>\n",
       "      <th>uid</th>\n",
       "      <th>name</th>\n",
       "      <th>max_possible_score</th>\n",
       "      <th>score</th>\n",
       "      <th>%</th>\n",
       "      <th>is_passed</th>\n",
       "      <th>does_he_appointed</th>\n",
       "      <th>course_activated_at</th>\n",
       "      <th>course_finished_at</th>\n",
       "      <th>completed_in_period</th>\n",
       "    </tr>\n",
       "  </thead>\n",
       "  <tbody>\n",
       "    <tr>\n",
       "      <th>0</th>\n",
       "      <td>u995</td>\n",
       "      <td>Служба обслуживания сотрудников</td>\n",
       "      <td>100</td>\n",
       "      <td>100.00</td>\n",
       "      <td>100.00</td>\n",
       "      <td>1</td>\n",
       "      <td>0</td>\n",
       "      <td>21.10.2014</td>\n",
       "      <td>24.10.2014</td>\n",
       "      <td>1.0</td>\n",
       "    </tr>\n",
       "    <tr>\n",
       "      <th>1</th>\n",
       "      <td>u995</td>\n",
       "      <td>Обучающий курс: \"Эффективная работа с кросс-ма...</td>\n",
       "      <td>100</td>\n",
       "      <td>100.00</td>\n",
       "      <td>100.00</td>\n",
       "      <td>1</td>\n",
       "      <td>0</td>\n",
       "      <td>08.10.2014</td>\n",
       "      <td>13.10.2014</td>\n",
       "      <td>1.0</td>\n",
       "    </tr>\n",
       "    <tr>\n",
       "      <th>2</th>\n",
       "      <td>u995</td>\n",
       "      <td>Технология продаж кухонной техники</td>\n",
       "      <td>100</td>\n",
       "      <td>100.00</td>\n",
       "      <td>100.00</td>\n",
       "      <td>1</td>\n",
       "      <td>1</td>\n",
       "      <td>01.10.2014</td>\n",
       "      <td>01.10.2014</td>\n",
       "      <td>NaN</td>\n",
       "    </tr>\n",
       "    <tr>\n",
       "      <th>3</th>\n",
       "      <td>u995</td>\n",
       "      <td>Технология продаж кухонной техники</td>\n",
       "      <td>100</td>\n",
       "      <td>98.75</td>\n",
       "      <td>98.75</td>\n",
       "      <td>1</td>\n",
       "      <td>1</td>\n",
       "      <td>27.09.2014</td>\n",
       "      <td>27.09.2014</td>\n",
       "      <td>NaN</td>\n",
       "    </tr>\n",
       "    <tr>\n",
       "      <th>4</th>\n",
       "      <td>u995</td>\n",
       "      <td>Маркетинговая акция осени</td>\n",
       "      <td>100</td>\n",
       "      <td>100.00</td>\n",
       "      <td>100.00</td>\n",
       "      <td>1</td>\n",
       "      <td>0</td>\n",
       "      <td>22.09.2014</td>\n",
       "      <td>26.09.2014</td>\n",
       "      <td>1.0</td>\n",
       "    </tr>\n",
       "  </tbody>\n",
       "</table>\n",
       "</div>"
      ],
      "text/plain": [
       "    uid                                               name  \\\n",
       "0  u995                    Служба обслуживания сотрудников   \n",
       "1  u995  Обучающий курс: \"Эффективная работа с кросс-ма...   \n",
       "2  u995                 Технология продаж кухонной техники   \n",
       "3  u995                 Технология продаж кухонной техники   \n",
       "4  u995                          Маркетинговая акция осени   \n",
       "\n",
       "   max_possible_score   score       %  is_passed  does_he_appointed  \\\n",
       "0                 100  100.00  100.00          1                  0   \n",
       "1                 100  100.00  100.00          1                  0   \n",
       "2                 100  100.00  100.00          1                  1   \n",
       "3                 100   98.75   98.75          1                  1   \n",
       "4                 100  100.00  100.00          1                  0   \n",
       "\n",
       "  course_activated_at course_finished_at  completed_in_period  \n",
       "0          21.10.2014         24.10.2014                  1.0  \n",
       "1          08.10.2014         13.10.2014                  1.0  \n",
       "2          01.10.2014         01.10.2014                  NaN  \n",
       "3          27.09.2014         27.09.2014                  NaN  \n",
       "4          22.09.2014         26.09.2014                  1.0  "
      ]
     },
     "execution_count": 19,
     "metadata": {},
     "output_type": "execute_result"
    }
   ],
   "source": [
    "df.head()"
   ]
  },
  {
   "cell_type": "code",
   "execution_count": 5,
   "metadata": {
    "collapsed": false
   },
   "outputs": [
    {
     "data": {
      "text/plain": [
       "Index(['uid', 'наименование', 'max-score, максим который набрать', 'score',\n",
       "       '%', 'проходной ли балл?', 'сам ли назначил?', 'когда активирован курс',\n",
       "       'когда завершен', 'в срок ли завершен', 'Unnamed: 10', 'Unnamed: 11',\n",
       "       'Unnamed: 12', 'Unnamed: 13', 'Unnamed: 14', 'Unnamed: 15',\n",
       "       'Unnamed: 16', 'Unnamed: 17', 'Unnamed: 18', 'Unnamed: 19',\n",
       "       'Unnamed: 20'],\n",
       "      dtype='object')"
      ]
     },
     "execution_count": 5,
     "metadata": {},
     "output_type": "execute_result"
    }
   ],
   "source": [
    "df.columns"
   ]
  }
 ],
 "metadata": {
  "anaconda-cloud": {},
  "kernelspec": {
   "display_name": "Python [conda root]",
   "language": "python",
   "name": "conda-root-py"
  },
  "language_info": {
   "codemirror_mode": {
    "name": "ipython",
    "version": 3
   },
   "file_extension": ".py",
   "mimetype": "text/x-python",
   "name": "python",
   "nbconvert_exporter": "python",
   "pygments_lexer": "ipython3",
   "version": "3.5.2"
  }
 },
 "nbformat": 4,
 "nbformat_minor": 1
}
