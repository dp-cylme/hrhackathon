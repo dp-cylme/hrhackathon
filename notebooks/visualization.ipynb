{
 "cells": [
  {
   "cell_type": "code",
   "execution_count": 3,
   "metadata": {
    "collapsed": true
   },
   "outputs": [],
   "source": [
    "%matplotlib inline\n",
    "\n",
    "# First, import pandas\n",
    "import pandas as pd\n",
    "import numpy as np\n",
    "\n",
    "# We'll also import seaborn, a Python graphing library\n",
    "import warnings # current version of seaborn generates a bunch of warnings that we'll ignore\n",
    "warnings.filterwarnings(\"ignore\")\n",
    "import seaborn as sns\n",
    "import matplotlib.pyplot as plt\n",
    "\n",
    "# We'll also import altair \n",
    "from altair import Chart, Row, Column, Text, X, Y, Axis, Color, Scale, Legend"
   ]
  },
  {
   "cell_type": "markdown",
   "metadata": {},
   "source": [
    "### Download data 1"
   ]
  },
  {
   "cell_type": "code",
   "execution_count": null,
   "metadata": {
    "collapsed": true
   },
   "outputs": [],
   "source": [
    "### Download Employee data  (anketa)"
   ]
  },
  {
   "cell_type": "code",
   "execution_count": 9,
   "metadata": {
    "collapsed": false
   },
   "outputs": [],
   "source": [
    "#Анкета\n",
    "df_anketa = (pd.read_csv(\"../input/h_1_anketa.csv\")\n",
    "        .rename(columns={\"Пол\": \"sex\", \"ДатаРождения\": \"date_of_birth\", \n",
    "                         \"ДатаПриема\": \"date_hired\", \"УИН Подразделения\": \"did\",\n",
    "                         \"ЭтоРуководитель\": \"is_manager\", \"Место рождения\": \"city_of_birth\",\n",
    "                         \"Должность\": \"position\"\n",
    "                        })\n",
    "#         .drop(['Unnamed: 10', 'Unnamed: 11', 'Unnamed: 12', 'Unnamed: 13', 'Unnamed: 14', \n",
    "#                'Unnamed: 15', 'Unnamed: 16', 'Unnamed: 17', 'Unnamed: 18', 'Unnamed: 19', 'Unnamed: 20'], 1)\n",
    "     )\n",
    "\n",
    "#Подразделения \n",
    "df_departments = (pd.read_csv(\"../input/h_1_departments.csv\")\n",
    "        .rename(columns={\" \": \"department_name\", \"УИН Подразделения\": \"did\", \n",
    "                         \"УИН Родителя\": \"did_parent\"\n",
    "                        })\n",
    "     )\n",
    "\n",
    "#Обучение оффлайн\n",
    "df_offline = (pd.read_csv(\"../input/h_1_learning_offline.csv\")\n",
    "        .rename(columns={\"наименование программы\": \"program_name\",\n",
    "                         \"Дата\": \"date\", \n",
    "                         \"фактическое количество часов\": \"time_spent\",\n",
    "                         \"Оцека (если предусмотрена курсом)\": \"time_plan\",\n",
    "                         \"uid тренера\": \"uid_coach\"\n",
    "                        })\n",
    "     )\n",
    "\n",
    "#Компетенции (Competencies)\n",
    "df_comp = (pd.read_csv(\"../input/h_1_competencies.csv\")\n",
    "        .rename(columns={\"Год\": \"year\", \n",
    "                         \"Месяц оценки\": \"month\", \n",
    "                         \"Дата оценки\": \"date\",\n",
    "                         \"Ориентация на достижение\":\"ach\", \n",
    "                         \"Коммуникативная компетенция\": \"communication\", \n",
    "                         \"Сервисность\": \"service\", \n",
    "                         \"Технологичность\": \"tech\", \n",
    "                         \"Анализ данных\": \"analysis\", \n",
    "                         \"Лидерство\": \"leader\", \n",
    "                         \"Командность\": \"team\", \n",
    "                         \"Постановка задач\": \"task_settings\", \n",
    "                         \"Обратная связь\": \"feedback\", \n",
    "                         \"Мотивация к наставничеству\": \"mentor_motivation\", \n",
    "                         \"Понимание наставничества\": \"mentor_understanding\", \n",
    "                         \"Наставничество\": \"mentroship\"\n",
    "                        })\n",
    "     )\n",
    "\n",
    "#KPI ТП\n",
    "df_kpi_tp = (pd.read_csv(\"../input/h_1_kpi_tp.csv\")\n",
    "        .rename(columns={\"Должность\": \"position\", \n",
    "                         \"Балл\": \"score\", \n",
    "                         \"Месяц\": \"date\"\n",
    "                        })\n",
    "     )\n",
    "\n",
    "#KPI ВПП \n",
    "df_kpi_vpp = (pd.read_csv(\"../input/h_1_kpi_vpp.csv\")\n",
    "        .rename(columns={\"План сотрудника\": \"vpp_plan\", \n",
    "                         \"Факт сотрудника\": \"vpp_fact\", \n",
    "                         \"% вып-я\": \"percentage\",\n",
    "                         \"Число_чеков\":\"sale_counts\", \n",
    "                         \"Ср.чек\": \"sale_average\", \n",
    "                         \"месяц\": \"date\"\n",
    "                        })\n",
    "     )\n"
   ]
  },
  {
   "cell_type": "code",
   "execution_count": 10,
   "metadata": {
    "collapsed": false
   },
   "outputs": [
    {
     "name": "stdout",
     "output_type": "stream",
     "text": [
      "['uid', 'sex', 'date_of_birth', 'date_hired', 'did', 'is_manager', 'city_of_birth', 'position']\n",
      "['department_name', 'did', 'did_parent']\n",
      "['uid', 'program_name', 'is_webinar', 'date', 'time_spent', 'time_plan', 'uid_coach']\n",
      "['uid', 'year', 'month', 'date', 'ach', 'communication', 'service', 'tech', 'analysis', 'leader', 'team', 'task_settings', 'feedback', 'mentor_motivation', 'mentor_understanding', 'mentroship']\n",
      "['uid', 'position', 'score', 'date']\n",
      "['uid', 'vpp_plan', 'vpp_fact', 'percentage', 'sale_counts', 'sale_average', 'date']\n"
     ]
    }
   ],
   "source": [
    "print([x for x in df_anketa.columns])\n",
    "print([x for x in df_departments.columns])\n",
    "print([x for x in df_offline.columns])\n",
    "print([x for x in df_comp.columns])\n",
    "print([x for x in df_kpi_tp.columns])\n",
    "print([x for x in df_kpi_vpp.columns])"
   ]
  },
  {
   "cell_type": "markdown",
   "metadata": {
    "collapsed": true
   },
   "source": [
    "### Download data 2"
   ]
  },
  {
   "cell_type": "code",
   "execution_count": null,
   "metadata": {
    "collapsed": true
   },
   "outputs": [],
   "source": []
  }
 ],
 "metadata": {
  "kernelspec": {
   "display_name": "Python 3",
   "language": "python",
   "name": "python3"
  },
  "language_info": {
   "codemirror_mode": {
    "name": "ipython",
    "version": 3
   },
   "file_extension": ".py",
   "mimetype": "text/x-python",
   "name": "python",
   "nbconvert_exporter": "python",
   "pygments_lexer": "ipython3",
   "version": "3.5.2"
  }
 },
 "nbformat": 4,
 "nbformat_minor": 1
}
